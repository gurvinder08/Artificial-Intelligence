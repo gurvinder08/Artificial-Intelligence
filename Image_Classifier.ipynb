{
  "nbformat": 4,
  "nbformat_minor": 0,
  "metadata": {
    "colab": {
      "name": "Image Classifier.ipynb",
      "provenance": []
    },
    "kernelspec": {
      "name": "python3",
      "display_name": "Python 3"
    },
    "language_info": {
      "name": "python"
    }
  },
  "cells": [
    {
      "cell_type": "code",
      "metadata": {
        "id": "UcvgwXltgBrr"
      },
      "source": [
        "import pandas as pd\n",
        "import numpy as np\n",
        "from matplotlib import pyplot as plt\n",
        "from sklearn import datasets\n",
        "from sklearn.model_selection import train_test_split\n",
        "from sklearn import tree \n",
        "from sklearn.metrics import accuracy_score"
      ],
      "execution_count": 1,
      "outputs": []
    },
    {
      "cell_type": "code",
      "metadata": {
        "id": "B3Yv-VqShFpy"
      },
      "source": [
        "iris=datasets.load_iris()\n",
        "x=iris.data\n",
        "y=iris.target"
      ],
      "execution_count": 2,
      "outputs": []
    },
    {
      "cell_type": "code",
      "metadata": {
        "id": "NSDABex8hR-A"
      },
      "source": [
        "x_train, x_test, y_train, y_test = train_test_split(x, y, test_size=0.5)"
      ],
      "execution_count": 3,
      "outputs": []
    },
    {
      "cell_type": "code",
      "metadata": {
        "colab": {
          "base_uri": "https://localhost:8080/"
        },
        "id": "degzPBKyiCWt",
        "outputId": "aab0b838-e42f-4b13-e4c9-6f41e0e5c6da"
      },
      "source": [
        "classifier = tree.DecisionTreeClassifier()\n",
        "classifier.fit(x_train, y_train)"
      ],
      "execution_count": 4,
      "outputs": [
        {
          "output_type": "execute_result",
          "data": {
            "text/plain": [
              "DecisionTreeClassifier(ccp_alpha=0.0, class_weight=None, criterion='gini',\n",
              "                       max_depth=None, max_features=None, max_leaf_nodes=None,\n",
              "                       min_impurity_decrease=0.0, min_impurity_split=None,\n",
              "                       min_samples_leaf=1, min_samples_split=2,\n",
              "                       min_weight_fraction_leaf=0.0, presort='deprecated',\n",
              "                       random_state=None, splitter='best')"
            ]
          },
          "metadata": {},
          "execution_count": 4
        }
      ]
    },
    {
      "cell_type": "code",
      "metadata": {
        "id": "8oAo5AWpiOeB"
      },
      "source": [
        "prediction=classifier.predict(x_test)"
      ],
      "execution_count": 5,
      "outputs": []
    },
    {
      "cell_type": "code",
      "metadata": {
        "colab": {
          "base_uri": "https://localhost:8080/"
        },
        "id": "GRbH-bXsi7Bl",
        "outputId": "668e416b-7d6f-4557-cd0b-00470bbe3002"
      },
      "source": [
        "prediction"
      ],
      "execution_count": 6,
      "outputs": [
        {
          "output_type": "execute_result",
          "data": {
            "text/plain": [
              "array([2, 2, 1, 2, 2, 0, 0, 1, 0, 0, 0, 2, 0, 0, 1, 0, 0, 0, 2, 2, 2, 1,\n",
              "       2, 1, 0, 2, 1, 2, 1, 2, 0, 2, 0, 1, 2, 0, 0, 2, 2, 2, 0, 0, 1, 2,\n",
              "       1, 1, 0, 1, 0, 1, 0, 1, 2, 2, 1, 0, 2, 0, 1, 2, 2, 1, 1, 1, 1, 0,\n",
              "       2, 1, 2, 2, 0, 2, 1, 0, 0])"
            ]
          },
          "metadata": {},
          "execution_count": 6
        }
      ]
    },
    {
      "cell_type": "code",
      "metadata": {
        "colab": {
          "base_uri": "https://localhost:8080/"
        },
        "id": "a7sE9PJJiWKa",
        "outputId": "b267d368-5d27-4ec4-f6ea-219d3d7e7544"
      },
      "source": [
        "print(accuracy_score(y_test, prediction))"
      ],
      "execution_count": 7,
      "outputs": [
        {
          "output_type": "stream",
          "text": [
            "0.9466666666666667\n"
          ],
          "name": "stdout"
        }
      ]
    }
  ]
}